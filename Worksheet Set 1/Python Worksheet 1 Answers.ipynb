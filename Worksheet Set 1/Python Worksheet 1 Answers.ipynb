{
 "cells": [
  {
   "cell_type": "markdown",
   "id": "baa97f3a",
   "metadata": {},
   "source": [
    "# Python - Worksheet1\n",
    "# Answers\n",
    "\n",
    "# Q.1.Ans:- C) %\n",
    "\n",
    "# Q.2.Ans:- B) 0\n",
    "\n",
    "# Q.3.Ans:- C) 24\n",
    "\n",
    "# Q.4.Ans:- A) 2\n",
    "\n",
    "# Q.5.Ans:- D) 6\n",
    "\n",
    "# Q.6.Ans:- C) The finally block will be will be executed no matter if the try block raises an error or not.\n",
    "\n",
    "# Q.7.Ans:- A) It is used to raise an exception\n",
    "\n",
    "# Q.8.Ans:- C) In defining a generator\n",
    "\n",
    "# Q9 and Q10 have multiple correct answers\n",
    "\n",
    "# Q.9.Ans:- A) _abc C) abc2\n",
    "\n",
    "# Q.10.Ans:- A) yield B) raise."
   ]
  },
  {
   "cell_type": "code",
   "execution_count": 3,
   "id": "497ec429",
   "metadata": {},
   "outputs": [
    {
     "name": "stdout",
     "output_type": "stream",
     "text": [
      "Enter a number: 5\n",
      "Factorial of 5 is 120\n"
     ]
    }
   ],
   "source": [
    "# Question 11:-\n",
    "\n",
    "def factorial(n):\n",
    "    if n < 0:\n",
    "        return \"Factorial is not defined for negative numbers\"\n",
    "    elif n==0 or n==1:\n",
    "        return 1\n",
    "    else:\n",
    "        result = 1\n",
    "        for i in range(2, n + 1):\n",
    "            result *= i\n",
    "        return result\n",
    "    \n",
    "number = int(input(\"Enter a number: \"))\n",
    "print(\"Factorial of\", number, \"is\", factorial(number))"
   ]
  },
  {
   "cell_type": "code",
   "execution_count": 5,
   "id": "17307422",
   "metadata": {},
   "outputs": [
    {
     "name": "stdout",
     "output_type": "stream",
     "text": [
      "Enter a number: 4\n",
      "4 is a composite number.\n"
     ]
    }
   ],
   "source": [
    "# Question 12:-\n",
    "\n",
    "def is_prime(num):\n",
    "    if num <= 1:\n",
    "        return False\n",
    "    elif num <= 3:\n",
    "        return True\n",
    "    elif num % 2 == 0 or num% 3 == 0:\n",
    "        return False\n",
    "    i = 5\n",
    "    while i * i <= num:\n",
    "        if num % i == 0 or num % (i + 2) == 0:\n",
    "            return False\n",
    "        i += 6\n",
    "    return True\n",
    "\n",
    "number = int(input(\"Enter a number: \"))\n",
    "if is_prime(number):\n",
    "    print(number, \"is a prime number.\")\n",
    "else:\n",
    "    print(number, \"is a composite number.\")"
   ]
  },
  {
   "cell_type": "code",
   "execution_count": 6,
   "id": "342f4be1",
   "metadata": {},
   "outputs": [
    {
     "name": "stdout",
     "output_type": "stream",
     "text": [
      "Enter a string: How are you?\n",
      "The string is not a palindrome.\n"
     ]
    }
   ],
   "source": [
    "# Question 13:-\n",
    "\n",
    "def is_palindrome(s):\n",
    "    s = s.replace(\" \", \"\").lower()\n",
    "    return s== s[::-1]\n",
    "\n",
    "string = input(\"Enter a string: \")\n",
    "if is_palindrome(string):\n",
    "    print(\"The string is a palindrome.\")\n",
    "else:\n",
    "    print(\"The string is not a palindrome.\")"
   ]
  },
  {
   "cell_type": "code",
   "execution_count": null,
   "id": "21ce5bb8",
   "metadata": {},
   "outputs": [],
   "source": [
    "# Question 14:-\n",
    "\n",
    "def get_third_side(side1, side2):\n",
    "    third_side = (side1 ** 2 + side2 ** 2) **0.5\n",
    "    return third_side\n",
    "\n",
    "side1 = float(input(\"Enter the length of the first side: \"))\n",
    "side2 = float(input(\"Enter the length of the second side: \"))\n",
    "\n",
    "third_side = get_third_side(side1, side2)\n",
    "print(\"The length of the third side of the right-angled triangle is:\", third_side)\n",
    "    "
   ]
  },
  {
   "cell_type": "code",
   "execution_count": null,
   "id": "180c014c",
   "metadata": {},
   "outputs": [],
   "source": [
    "# Question 15:-\n",
    "\n",
    "def count_character_frequency(s):\n",
    "    frequency_dict = {}\n",
    "    \n",
    "    for char in s:\n",
    "        if char in frequency_dict:\n",
    "            frequency_dict[char] += 1\n",
    "        else:\n",
    "            frequency_dict[char] = 1\n",
    "            \n",
    "    for char, frequency in frquency_dict.items():\n",
    "        print(f\"Character '{char}' occurs {frequency} time(s)\")\n",
    "        \n",
    "string = input(\"Enter a string: \")\n",
    "count_character_frequency(string)"
   ]
  }
 ],
 "metadata": {
  "kernelspec": {
   "display_name": "Python 3 (ipykernel)",
   "language": "python",
   "name": "python3"
  },
  "language_info": {
   "codemirror_mode": {
    "name": "ipython",
    "version": 3
   },
   "file_extension": ".py",
   "mimetype": "text/x-python",
   "name": "python",
   "nbconvert_exporter": "python",
   "pygments_lexer": "ipython3",
   "version": "3.9.7"
  }
 },
 "nbformat": 4,
 "nbformat_minor": 5
}
