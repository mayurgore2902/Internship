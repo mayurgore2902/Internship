{
 "cells": [
  {
   "cell_type": "code",
   "execution_count": 1,
   "id": "68be78a9",
   "metadata": {},
   "outputs": [
    {
     "name": "stdout",
     "output_type": "stream",
     "text": [
      "Expected output: Python:Exercises::PHP:exercises:\n"
     ]
    }
   ],
   "source": [
    "# Question 1 :\n",
    "\n",
    "\n",
    "def rewrite_characters(text):\n",
    "    correct_text = text.replace(' ',':').replace(',',':').replace('.',':')\n",
    "    return correct_text\n",
    "\n",
    "sample_text = 'Python Exercises, PHP exercises.'\n",
    "expected_output = rewrite_characters(sample_text)\n",
    "print(\"Expected output:\",expected_output)"
   ]
  },
  {
   "cell_type": "code",
   "execution_count": 2,
   "id": "2b8de6fb",
   "metadata": {},
   "outputs": [
    {
     "name": "stdout",
     "output_type": "stream",
     "text": [
      "Expected output:\n",
      "       SUMMARY\n",
      "0  hello world\n",
      "1         test\n",
      "2  fourfivesix\n"
     ]
    }
   ],
   "source": [
    "# Question 2 :\n",
    "\n",
    "import pandas as pd\n",
    "import re\n",
    "\n",
    "data = {'SUMMARY' : ['hello, world!' , 'test' , 'four,five:;six...']}\n",
    "\n",
    "df = pd.DataFrame(data)\n",
    "df['SUMMARY'] = df['SUMMARY'].apply(lambda x: re.sub(r'[^\\w\\s]', '' , x))\n",
    "\n",
    "print(\"Expected output:\")\n",
    "print(df)"
   ]
  },
  {
   "cell_type": "code",
   "execution_count": 3,
   "id": "ceb54fb9",
   "metadata": {},
   "outputs": [
    {
     "name": "stdout",
     "output_type": "stream",
     "text": [
      "Words atleast 4 characters long: ['Keep', 'book', 'down', 'enjoy', 'your', 'meal']\n"
     ]
    }
   ],
   "source": [
    "# Question 3:\n",
    "\n",
    "import re\n",
    "\n",
    "def find_long_words(text):\n",
    "    pattern = re.compile(r'\\b\\w{4,}\\b')\n",
    "    \n",
    "    long_words = pattern.findall(text)\n",
    "    return long_words\n",
    "\n",
    "text = \"Keep the book in the bag Now go down and enjoy your meal.\"\n",
    "long_words = find_long_words(text)\n",
    "print(\"Words atleast 4 characters long:\", long_words)"
   ]
  },
  {
   "cell_type": "code",
   "execution_count": 4,
   "id": "a2746491",
   "metadata": {},
   "outputs": [
    {
     "name": "stdout",
     "output_type": "stream",
     "text": [
      "Three, four and five characters words: ['Keep', 'the', 'book', 'the', 'bag', 'Now', 'down', 'and', 'enjoy', 'your', 'meal']\n"
     ]
    }
   ],
   "source": [
    "# Question 4:\n",
    "\n",
    "import re\n",
    "\n",
    "def find_words_by_length(text):\n",
    "    pattern = re.compile(r'\\b\\w{3,5}\\b')\n",
    "    \n",
    "    matching_words = pattern.findall(text)\n",
    "    return matching_words\n",
    "\n",
    "text = \"Keep the book in the bag Now go down and enjoy your meal.\"\n",
    "matching_words = find_words_by_length(text)\n",
    "print(\"Three, four and five characters words:\", matching_words)"
   ]
  },
  {
   "cell_type": "code",
   "execution_count": 5,
   "id": "39e33fd6",
   "metadata": {},
   "outputs": [
    {
     "name": "stdout",
     "output_type": "stream",
     "text": [
      "Expected output:\n",
      "example.com\n",
      "hr@fliprobo.com\n",
      "github.com\n",
      "Hello Data Science World\n",
      "Data Scientist\n"
     ]
    }
   ],
   "source": [
    "# Question 5:\n",
    "\n",
    "import re\n",
    "\n",
    "def remove_parentheses(strings):\n",
    "    pattern = re.compile(r'\\(|\\)')\n",
    "    \n",
    "    cleaned_strings = [pattern.sub('' , s).strip() for s in strings]\n",
    "    return cleaned_strings\n",
    "\n",
    "sample_text = [\"example(.com)\", \"hr@fliprobo(.com)\", \"github(.com)\", \"Hello (Data Science World)\", \"Data (Scientist)\"]\n",
    "cleaned_text = remove_parentheses(sample_text)\n",
    "\n",
    "print(\"Expected output:\")\n",
    "for text in cleaned_text:\n",
    "    print(text)"
   ]
  },
  {
   "cell_type": "code",
   "execution_count": 13,
   "id": "fed30d04",
   "metadata": {},
   "outputs": [
    {
     "name": "stdout",
     "output_type": "stream",
     "text": [
      "Modified lines:\n",
      "[\"example\", \"hr@fliprobo\", \"github\", \"Hello\", \"Data\"]\n"
     ]
    }
   ],
   "source": [
    "# Question 6:\n",
    "\n",
    "import re\n",
    "\n",
    "def remove_parenthesis_area(text):\n",
    "    pattern = r'\\s*\\([^)]*\\)'\n",
    "        \n",
    "    modified_text = re.sub(pattern, '', text)\n",
    "    return modified_text\n",
    "\n",
    "with open('sample_text.txt', 'r') as file:\n",
    "    lines = file.readlines()\n",
    "    \n",
    "modified_lines = [remove_parenthesis_area(line) for line in lines]\n",
    "\n",
    "with open('modified_text.txt', 'w') as file:\n",
    "    file.writelines(modified_lines)\n",
    "    \n",
    "print(\"Modified lines:\")\n",
    "for line in modified_lines:\n",
    "    print(line.strip())"
   ]
  },
  {
   "cell_type": "code",
   "execution_count": 7,
   "id": "b7f39dc9",
   "metadata": {},
   "outputs": [
    {
     "name": "stdout",
     "output_type": "stream",
     "text": [
      "Expected output: ['Importance', 'Of', 'Regular', 'Expressions', 'In', 'Python']\n"
     ]
    }
   ],
   "source": [
    "# question 7:\n",
    "\n",
    "import re\n",
    "sample_text = \"ImportanceOfRegularExpressionsInPython\"\n",
    "\n",
    "pattern = r'[A-Z][a-z]*'\n",
    "\n",
    "result = re.findall(pattern, sample_text)\n",
    "\n",
    "print(\"Expected output:\", result)"
   ]
  },
  {
   "cell_type": "code",
   "execution_count": 8,
   "id": "f0c17f21",
   "metadata": {},
   "outputs": [
    {
     "name": "stdout",
     "output_type": "stream",
     "text": [
      "Expected output: RegularExpression 1IsAn 2ImportantTopic 3InPython\n"
     ]
    }
   ],
   "source": [
    "# Question 8:\n",
    "\n",
    "import re\n",
    "\n",
    "def insert_spaces(text):\n",
    "    pattern = r'(?<=\\D)(?=\\d)'\n",
    "    \n",
    "    modified_text = re.sub(pattern, ' ', text)\n",
    "    return modified_text\n",
    "\n",
    "sample_text = \"RegularExpression1IsAn2ImportantTopic3InPython\"\n",
    "\n",
    "result = insert_spaces(sample_text)\n",
    "print(\"Expected output:\", result)"
   ]
  },
  {
   "cell_type": "code",
   "execution_count": 9,
   "id": "969fe9c5",
   "metadata": {},
   "outputs": [
    {
     "name": "stdout",
     "output_type": "stream",
     "text": [
      "Expected output:  Regular Expresion 1 Is An 2 Important Topic 3 In Python\n"
     ]
    }
   ],
   "source": [
    "# Question 9:\n",
    "\n",
    "import re\n",
    "\n",
    "def insert_spaces(text):\n",
    "    pattern = r'(?<![A-Z])(?=[A-Z])|(?<=\\D)(?=\\d)'\n",
    "    \n",
    "    modified_text = re.sub(pattern, ' ', text)\n",
    "    return modified_text\n",
    "\n",
    "sample_text = \"RegularExpresion1IsAn2ImportantTopic3InPython\"\n",
    "\n",
    "result = insert_spaces(sample_text)\n",
    "print(\"Expected output:\", result)"
   ]
  },
  {
   "cell_type": "code",
   "execution_count": 10,
   "id": "d403a689",
   "metadata": {},
   "outputs": [
    {
     "data": {
      "text/html": [
       "<div>\n",
       "<style scoped>\n",
       "    .dataframe tbody tr th:only-of-type {\n",
       "        vertical-align: middle;\n",
       "    }\n",
       "\n",
       "    .dataframe tbody tr th {\n",
       "        vertical-align: top;\n",
       "    }\n",
       "\n",
       "    .dataframe thead th {\n",
       "        text-align: right;\n",
       "    }\n",
       "</style>\n",
       "<table border=\"1\" class=\"dataframe\">\n",
       "  <thead>\n",
       "    <tr style=\"text-align: right;\">\n",
       "      <th></th>\n",
       "      <th>Country</th>\n",
       "      <th>Region</th>\n",
       "      <th>Happiness Rank</th>\n",
       "      <th>Happiness Score</th>\n",
       "      <th>Standard Error</th>\n",
       "      <th>Economy (GDP per Capita)</th>\n",
       "      <th>Family</th>\n",
       "      <th>Health (Life Expectancy)</th>\n",
       "      <th>Freedom</th>\n",
       "      <th>Trust (Government Corruption)</th>\n",
       "      <th>Generosity</th>\n",
       "      <th>Dystopia Residual</th>\n",
       "      <th>first_five_letters</th>\n",
       "    </tr>\n",
       "  </thead>\n",
       "  <tbody>\n",
       "    <tr>\n",
       "      <th>0</th>\n",
       "      <td>Switzerland</td>\n",
       "      <td>Western Europe</td>\n",
       "      <td>1</td>\n",
       "      <td>7.587</td>\n",
       "      <td>0.03411</td>\n",
       "      <td>1.39651</td>\n",
       "      <td>1.34951</td>\n",
       "      <td>0.94143</td>\n",
       "      <td>0.66557</td>\n",
       "      <td>0.41978</td>\n",
       "      <td>0.29678</td>\n",
       "      <td>2.51738</td>\n",
       "      <td>Switze</td>\n",
       "    </tr>\n",
       "    <tr>\n",
       "      <th>1</th>\n",
       "      <td>Iceland</td>\n",
       "      <td>Western Europe</td>\n",
       "      <td>2</td>\n",
       "      <td>7.561</td>\n",
       "      <td>0.04884</td>\n",
       "      <td>1.30232</td>\n",
       "      <td>1.40223</td>\n",
       "      <td>0.94784</td>\n",
       "      <td>0.62877</td>\n",
       "      <td>0.14145</td>\n",
       "      <td>0.43630</td>\n",
       "      <td>2.70201</td>\n",
       "      <td>Icelan</td>\n",
       "    </tr>\n",
       "    <tr>\n",
       "      <th>2</th>\n",
       "      <td>Denmark</td>\n",
       "      <td>Western Europe</td>\n",
       "      <td>3</td>\n",
       "      <td>7.527</td>\n",
       "      <td>0.03328</td>\n",
       "      <td>1.32548</td>\n",
       "      <td>1.36058</td>\n",
       "      <td>0.87464</td>\n",
       "      <td>0.64938</td>\n",
       "      <td>0.48357</td>\n",
       "      <td>0.34139</td>\n",
       "      <td>2.49204</td>\n",
       "      <td>Denmar</td>\n",
       "    </tr>\n",
       "    <tr>\n",
       "      <th>3</th>\n",
       "      <td>Norway</td>\n",
       "      <td>Western Europe</td>\n",
       "      <td>4</td>\n",
       "      <td>7.522</td>\n",
       "      <td>0.03880</td>\n",
       "      <td>1.45900</td>\n",
       "      <td>1.33095</td>\n",
       "      <td>0.88521</td>\n",
       "      <td>0.66973</td>\n",
       "      <td>0.36503</td>\n",
       "      <td>0.34699</td>\n",
       "      <td>2.46531</td>\n",
       "      <td>Norway</td>\n",
       "    </tr>\n",
       "    <tr>\n",
       "      <th>4</th>\n",
       "      <td>Canada</td>\n",
       "      <td>North America</td>\n",
       "      <td>5</td>\n",
       "      <td>7.427</td>\n",
       "      <td>0.03553</td>\n",
       "      <td>1.32629</td>\n",
       "      <td>1.32261</td>\n",
       "      <td>0.90563</td>\n",
       "      <td>0.63297</td>\n",
       "      <td>0.32957</td>\n",
       "      <td>0.45811</td>\n",
       "      <td>2.45176</td>\n",
       "      <td>Canada</td>\n",
       "    </tr>\n",
       "  </tbody>\n",
       "</table>\n",
       "</div>"
      ],
      "text/plain": [
       "       Country          Region  Happiness Rank  Happiness Score  \\\n",
       "0  Switzerland  Western Europe               1            7.587   \n",
       "1      Iceland  Western Europe               2            7.561   \n",
       "2      Denmark  Western Europe               3            7.527   \n",
       "3       Norway  Western Europe               4            7.522   \n",
       "4       Canada   North America               5            7.427   \n",
       "\n",
       "   Standard Error  Economy (GDP per Capita)   Family  \\\n",
       "0         0.03411                   1.39651  1.34951   \n",
       "1         0.04884                   1.30232  1.40223   \n",
       "2         0.03328                   1.32548  1.36058   \n",
       "3         0.03880                   1.45900  1.33095   \n",
       "4         0.03553                   1.32629  1.32261   \n",
       "\n",
       "   Health (Life Expectancy)  Freedom  Trust (Government Corruption)  \\\n",
       "0                   0.94143  0.66557                        0.41978   \n",
       "1                   0.94784  0.62877                        0.14145   \n",
       "2                   0.87464  0.64938                        0.48357   \n",
       "3                   0.88521  0.66973                        0.36503   \n",
       "4                   0.90563  0.63297                        0.32957   \n",
       "\n",
       "   Generosity  Dystopia Residual first_five_letters  \n",
       "0     0.29678            2.51738             Switze  \n",
       "1     0.43630            2.70201             Icelan  \n",
       "2     0.34139            2.49204             Denmar  \n",
       "3     0.34699            2.46531             Norway  \n",
       "4     0.45811            2.45176             Canada  "
      ]
     },
     "execution_count": 10,
     "metadata": {},
     "output_type": "execute_result"
    }
   ],
   "source": [
    "# question 10:\n",
    "\n",
    "import pandas as pd\n",
    "\n",
    "url = \"https://raw.githubusercontent.com/dsrscientist/DSData/master/happiness_score_dataset.csv\"\n",
    "\n",
    "df = pd.read_csv(url)\n",
    "\n",
    "df['first_five_letters'] = df['Country'].str[:6]\n",
    "\n",
    "df.head()"
   ]
  },
  {
   "cell_type": "code",
   "execution_count": 11,
   "id": "2ae80b72",
   "metadata": {},
   "outputs": [
    {
     "name": "stdout",
     "output_type": "stream",
     "text": [
      "Hello_World123: Valid\n",
      "abcDEF456: Valid\n",
      "invalid@string: Invalid\n"
     ]
    }
   ],
   "source": [
    "# question 11:\n",
    "\n",
    "import re\n",
    "\n",
    "def is_valid_string(input_string):\n",
    "    pattern = r'^[a-zA-Z0-9_]*$'\n",
    "    \n",
    "    if re.match(pattern, input_string):\n",
    "        return True\n",
    "    else:\n",
    "        return False\n",
    "    \n",
    "sample_strings = [\"Hello_World123\", \"abcDEF456\", \"invalid@string\"]\n",
    "for sample_string in sample_strings:\n",
    "    if is_valid_string(sample_string):\n",
    "        print(f\"{sample_string}: Valid\")\n",
    "    else:\n",
    "        print(f\"{sample_string}: Invalid\")"
   ]
  },
  {
   "cell_type": "code",
   "execution_count": 12,
   "id": "60a38009",
   "metadata": {},
   "outputs": [
    {
     "name": "stdout",
     "output_type": "stream",
     "text": [
      "123abc: Starts with 123\n",
      "456def: Does not start with 123\n",
      "789ghi: Does not start with 123\n",
      "abc212: Does not start with 123\n"
     ]
    }
   ],
   "source": [
    "# question 12:\n",
    "\n",
    "import re\n",
    "\n",
    "def starts_with_number(string,number):\n",
    "    pattern = r'^' + str(number) + r'\\D'\n",
    "    \n",
    "    if re.match(pattern, string):\n",
    "        return True\n",
    "    else:\n",
    "        return False\n",
    "    \n",
    "test_strings = [\"123abc\", \"456def\", \"789ghi\", \"abc212\"]\n",
    "specific_number = 123\n",
    "for test_string in test_strings:\n",
    "    if starts_with_number(test_string, specific_number):\n",
    "        print(f\"{test_string}: Starts with {specific_number}\")\n",
    "    else:\n",
    "        print(f\"{test_string}: Does not start with {specific_number}\")"
   ]
  },
  {
   "cell_type": "code",
   "execution_count": 13,
   "id": "ddda75fb",
   "metadata": {},
   "outputs": [
    {
     "name": "stdout",
     "output_type": "stream",
     "text": [
      "original IP address: 192.168.001.001\n",
      "cleaned IP address: 192.168.1.1\n"
     ]
    }
   ],
   "source": [
    "# question 13:\n",
    "\n",
    "def remove_leading_zeros(ip_address):\n",
    "    components = ip_address.split('.')\n",
    "    \n",
    "    cleaned_components = [str(int(component)) for component in components]\n",
    "    \n",
    "    cleaned_ip_address = '.'.join(cleaned_components)\n",
    "    return cleaned_ip_address\n",
    "\n",
    "ip_address = \"192.168.001.001\"\n",
    "cleaned_ip_address = remove_leading_zeros(ip_address)\n",
    "print(\"original IP address:\", ip_address)\n",
    "print(\"cleaned IP address:\", cleaned_ip_address)"
   ]
  },
  {
   "cell_type": "code",
   "execution_count": 10,
   "id": "e3afaedc",
   "metadata": {},
   "outputs": [
    {
     "name": "stdout",
     "output_type": "stream",
     "text": [
      "Expected output: August 15th 1947\n"
     ]
    }
   ],
   "source": [
    "# question 14:\n",
    "\n",
    "import re\n",
    "\n",
    "with open('doc1_sample_test.txt', 'r') as file:\n",
    "    text = file.read()\n",
    "\n",
    "pattern = r'(January|February|March|April|May|June|July|August|September|October|November|December)\\s+\\d{1,2}(st|nd|rd|th)\\s+\\d{4}'\n",
    "match = re.search(pattern, text)\n",
    "\n",
    "if match:\n",
    "    date_string = match.group(0)\n",
    "    print(\"Expected output:\", date_string)\n",
    "else:\n",
    "    print(\"Date string not found in the text.\")"
   ]
  },
  {
   "cell_type": "code",
   "execution_count": 15,
   "id": "73223ab3",
   "metadata": {},
   "outputs": [
    {
     "name": "stdout",
     "output_type": "stream",
     "text": [
      "'fox' found in the text.\n",
      "'dog' found in the text.\n"
     ]
    }
   ],
   "source": [
    "# question 15:\n",
    "\n",
    "def search_literals(text, searched_words):\n",
    "    found_words = []\n",
    "    for word in searched_words:\n",
    "        if word in text:\n",
    "            found_words.append(word)\n",
    "    return found_words\n",
    "    \n",
    "sample_text = 'The quick brown fox jumps over the lazy dog.'\n",
    "searched_words = ['fox', 'dog', 'horse']\n",
    "\n",
    "found_words = search_literals(sample_text, searched_words)\n",
    "for word in found_words:\n",
    "    print(f\"'{word}' found in the text.\")"
   ]
  },
  {
   "cell_type": "code",
   "execution_count": 16,
   "id": "97201e92",
   "metadata": {},
   "outputs": [
    {
     "name": "stdout",
     "output_type": "stream",
     "text": [
      "'fox' found at index: 16\n"
     ]
    }
   ],
   "source": [
    "# question 16:\n",
    "\n",
    "def search_literal(text, searched_word):\n",
    "    location = text.find(searched_word)\n",
    "    if location != -1:\n",
    "        return location\n",
    "    else:\n",
    "        return None\n",
    "    \n",
    "sample_text = 'The quick brown fox jumps over the lazy dog.'\n",
    "searched_word = 'fox'\n",
    "location = search_literal(sample_text, searched_word)\n",
    "\n",
    "if location is not None:\n",
    "    print(f\"'{searched_word}' found at index:\", location)\n",
    "else:\n",
    "    print(f\"'{searched_word}' not found in the text.\")"
   ]
  },
  {
   "cell_type": "code",
   "execution_count": 17,
   "id": "d3a6a687",
   "metadata": {},
   "outputs": [
    {
     "name": "stdout",
     "output_type": "stream",
     "text": [
      "The pattern 'exercises' found at positions. [7, 22, 36]\n"
     ]
    }
   ],
   "source": [
    "# question 17:\n",
    "\n",
    "def find_substrings(text, pattern):\n",
    "    occurrences = []\n",
    "    start_index = 0\n",
    "    \n",
    "    while True:\n",
    "        index = text.find(pattern, start_index)\n",
    "        if index == -1:\n",
    "            break\n",
    "        occurrences.append(index)\n",
    "        start_index = index + 1\n",
    "        \n",
    "    return occurrences\n",
    "\n",
    "sample_text = 'Python exercises, PHP exercises, C# exercises'\n",
    "\n",
    "pattern = 'exercises'\n",
    "\n",
    "occurrences = find_substrings(sample_text, pattern)\n",
    "\n",
    "if occurrences:\n",
    "    print(f\"The pattern '{pattern}' found at positions.\", occurrences)\n",
    "else:\n",
    "    print(f\"The pattern '{pattern}' not found in the text.\")"
   ]
  },
  {
   "cell_type": "code",
   "execution_count": 18,
   "id": "262c5c5e",
   "metadata": {},
   "outputs": [
    {
     "name": "stdout",
     "output_type": "stream",
     "text": [
      "The substring 'exercises' found at positions. [7, 22, 36]\n",
      "Total ocurrences: 3\n"
     ]
    }
   ],
   "source": [
    "# question 18:\n",
    "\n",
    "def find_occurrences(text, pattern):\n",
    "    occurrences = []\n",
    "    start_index = 0\n",
    "    \n",
    "    while True:\n",
    "        index = text.find(pattern, start_index)\n",
    "        if index == -1:\n",
    "            break\n",
    "        occurrences.append(index)\n",
    "        start_index = index + 1\n",
    "        \n",
    "    return occurrences\n",
    "\n",
    "sample_text = 'Python exercises, PHP exercises, C# exercises'\n",
    "\n",
    "substring = 'exercises'\n",
    "\n",
    "occurrences = find_occurrences(sample_text, substring)\n",
    "\n",
    "if occurrences:\n",
    "    print(f\"The substring '{substring}' found at positions.\", occurrences)\n",
    "    print(f\"Total ocurrences: {len(occurrences)}\")\n",
    "else:\n",
    "    print(f\"The substring '{substring}' not found in the text.\")"
   ]
  },
  {
   "cell_type": "code",
   "execution_count": 19,
   "id": "67273fe0",
   "metadata": {},
   "outputs": [
    {
     "name": "stdout",
     "output_type": "stream",
     "text": [
      "original date: 2021-04-28\n",
      "formatted date: 28-04-2021\n"
     ]
    }
   ],
   "source": [
    "# question 19:\n",
    "\n",
    "from datetime import datetime\n",
    "def convert_date(date_str):\n",
    "    date_obj = datetime.strptime(date_str, '%Y-%m-%d')\n",
    "    \n",
    "    formatted_date = date_obj.strftime('%d-%m-%Y')\n",
    "    \n",
    "    return formatted_date\n",
    "\n",
    "date_str = '2021-04-28'\n",
    "\n",
    "formatted_date = convert_date(date_str)\n",
    "\n",
    "print(\"original date:\", date_str)\n",
    "print(\"formatted date:\", formatted_date)"
   ]
  },
  {
   "cell_type": "code",
   "execution_count": 20,
   "id": "e55a80f4",
   "metadata": {},
   "outputs": [
    {
     "name": "stdout",
     "output_type": "stream",
     "text": [
      "Expected output: ['01.12', '145.8', '3.01', '27.25', '0.25']\n"
     ]
    }
   ],
   "source": [
    "# question 20:\n",
    "\n",
    "import re\n",
    "\n",
    "def find_decimal_numbers(text):\n",
    "    pattern = re.compile(r'\\b\\d+\\.\\d{1,2}\\b')\n",
    "    \n",
    "    matches = pattern.findall(text)\n",
    "    \n",
    "    return matches\n",
    "\n",
    "sample_text = \"01.12 0132.123 2.31875 145.8 3.01 27.25 0.25\"\n",
    "decimal_numbers = find_decimal_numbers(sample_text)\n",
    "\n",
    "print(\"Expected output:\", decimal_numbers)"
   ]
  },
  {
   "cell_type": "code",
   "execution_count": 21,
   "id": "46427c4f",
   "metadata": {},
   "outputs": [
    {
     "name": "stdout",
     "output_type": "stream",
     "text": [
      "Number: 12, Position: 10-11\n",
      "Number: 3, Position: 24-24\n"
     ]
    }
   ],
   "source": [
    "# question 21:\n",
    "\n",
    "def find_numbers_with_positions(text):\n",
    "    numbers_with_positions = []\n",
    "    start = None\n",
    "    \n",
    "    for i, char in enumerate(text):\n",
    "        if char.isdigit():\n",
    "            if start is None:\n",
    "                start = i\n",
    "        else:\n",
    "            if start is not None:\n",
    "                number = int(text[start:i])\n",
    "                numbers_with_positions.append((number, start, i))\n",
    "                start = None\n",
    "                \n",
    "    if start is not None:\n",
    "            number = int(text[start:])\n",
    "            numbers_with_positions.append((number, start, len(text)))\n",
    "            \n",
    "    return numbers_with_positions\n",
    "    \n",
    "sample_text = \"There are 12 apples and 3 oranges on the table.\"\n",
    "numbers_with_positions = find_numbers_with_positions(sample_text)\n",
    "\n",
    "for number, start, end in numbers_with_positions:\n",
    "    print(f\"Number: {number}, Position: {start}-{end-1}\")"
   ]
  },
  {
   "cell_type": "code",
   "execution_count": 1,
   "id": "dc5af233",
   "metadata": {},
   "outputs": [
    {
     "name": "stdout",
     "output_type": "stream",
     "text": [
      "Maximum numeric value: 950\n"
     ]
    }
   ],
   "source": [
    "# Question 22:\n",
    "\n",
    "import re\n",
    "\n",
    "def extract_maximum_numeric_value(text):\n",
    "    pattern = r'\\b\\d+\\b'\n",
    "    numeric_value = [int(value) for value in re.findall(pattern, text)]\n",
    "    return max(numeric_value)\n",
    "\n",
    "sample_text = 'My marks in each semester are: 947, 896, 926, 524, 734, 950, 642'\n",
    "\n",
    "maximum_numeric_value = extract_maximum_numeric_value(sample_text)\n",
    "\n",
    "print(\"Maximum numeric value:\", maximum_numeric_value)"
   ]
  },
  {
   "cell_type": "code",
   "execution_count": 2,
   "id": "162bc19d",
   "metadata": {},
   "outputs": [
    {
     "name": "stdout",
     "output_type": "stream",
     "text": [
      "Expected output: Regular Expression Is An Important Topic In Python\n"
     ]
    }
   ],
   "source": [
    "# question 23:\n",
    "\n",
    "import re\n",
    "\n",
    "def insert_spaces(text):\n",
    "    pattern = r'(?<=\\w)([A-Z])'\n",
    "    \n",
    "    modified_text = re.sub(pattern,r' \\1', text)\n",
    "    return modified_text\n",
    "\n",
    "sample_text = \"RegularExpressionIsAnImportantTopicInPython\"\n",
    "result = insert_spaces(sample_text)\n",
    "\n",
    "print(\"Expected output:\", result)"
   ]
  },
  {
   "cell_type": "code",
   "execution_count": 3,
   "id": "48b00e29",
   "metadata": {},
   "outputs": [
    {
     "name": "stdout",
     "output_type": "stream",
     "text": [
      "Expected output: ['The', 'Quick', 'Brown', 'Fox', 'Jumps', 'Over', 'The', 'Lazy', 'Dog']\n"
     ]
    }
   ],
   "source": [
    "# question 24:\n",
    "\n",
    "import re\n",
    "\n",
    "def find_uppercase_lowercase_sequences(text):\n",
    "    pattern = r'[A-Z][a-z]+'\n",
    "    \n",
    "    sequences = re.findall(pattern, text)\n",
    "    return sequences\n",
    "\n",
    "sample_text = \"The Quick Brown Fox Jumps Over The Lazy Dog\"\n",
    "result = find_uppercase_lowercase_sequences(sample_text)\n",
    "\n",
    "print(\"Expected output:\", result)"
   ]
  },
  {
   "cell_type": "code",
   "execution_count": 4,
   "id": "14fd4626",
   "metadata": {},
   "outputs": [
    {
     "name": "stdout",
     "output_type": "stream",
     "text": [
      "Expected output: Hello hello world\n"
     ]
    }
   ],
   "source": [
    "# question 25:\n",
    "\n",
    "import re\n",
    "\n",
    "def remove_continuous_duplicates(sentence):\n",
    "    pattern = r'\\b(\\w+)(?:\\s+\\1\\b)+'\n",
    "    \n",
    "    modified_sentence = re.sub(pattern, r'\\1', sentence)\n",
    "    return modified_sentence\n",
    "\n",
    "sample_text = \"Hello hello world world\"\n",
    "result = remove_continuous_duplicates(sample_text)\n",
    "\n",
    "print(\"Expected output:\", result)"
   ]
  },
  {
   "cell_type": "code",
   "execution_count": 5,
   "id": "b24b7338",
   "metadata": {},
   "outputs": [
    {
     "name": "stdout",
     "output_type": "stream",
     "text": [
      "'abc123'ends with an aplhanumeric character.\n",
      "'Hello123'ends with an aplhanumeric character.\n",
      "'123'ends with an aplhanumeric character.\n",
      "'abc!' does not end with aplhanumeric character.\n"
     ]
    }
   ],
   "source": [
    "# question 26:\n",
    "\n",
    "import re\n",
    "\n",
    "def ends_with_alphanumeric(string):\n",
    "    pattern = r'\\w$'\n",
    "    \n",
    "    if re.search(pattern, string):\n",
    "        return True\n",
    "    else:\n",
    "        return False\n",
    "    \n",
    "test_strings = [\"abc123\", \"Hello123\", \"123\", \"abc!\"]\n",
    "for test_string in test_strings:\n",
    "    if ends_with_alphanumeric(test_string):\n",
    "        print(f\"'{test_string}'ends with an aplhanumeric character.\")\n",
    "    else:\n",
    "        print(f\"'{test_string}' does not end with aplhanumeric character.\")"
   ]
  },
  {
   "cell_type": "code",
   "execution_count": 6,
   "id": "68402887",
   "metadata": {},
   "outputs": [
    {
     "name": "stdout",
     "output_type": "stream",
     "text": [
      "Expected output: ['#Doltiwal', '#xyzabc', '#Demonetization']\n"
     ]
    }
   ],
   "source": [
    "# question 27:\n",
    "\n",
    "import re\n",
    "\n",
    "def extract_hastags(text):\n",
    "    pattern = r'\\#\\w+'\n",
    "    \n",
    "    hastags = re.findall(pattern, text)\n",
    "    return hastags\n",
    "\n",
    "sample_text =\"\"\"RT @kapil_kausik: #Doltiwal I mean #xyzabc is \"hurt\" by #Demonetization as the same has rendered USELESS <ed><U+00A0><U+00BD><ed><U+00B1><U+0089> \"acquired funds\" No wo\"\"\"\n",
    "\n",
    "hastags = extract_hastags(sample_text)\n",
    "\n",
    "print(\"Expected output:\", hastags)"
   ]
  },
  {
   "cell_type": "code",
   "execution_count": 7,
   "id": "b95866dc",
   "metadata": {},
   "outputs": [
    {
     "name": "stdout",
     "output_type": "stream",
     "text": [
      "Expected output: @Jags123456 Bharat band on 28??<ed><ed>Those who  are protesting #demonetization  are all different party leaders\n"
     ]
    }
   ],
   "source": [
    "# question 28:\n",
    "\n",
    "import re\n",
    "\n",
    "def remove_symbols(text):\n",
    "    pattern = r'<U\\+\\w{2,4}>'\n",
    "    cleaned_text = re.sub(pattern, '', text)\n",
    "    return cleaned_text\n",
    "\n",
    "sample_text = \"@Jags123456 Bharat band on 28??<ed><U+00A0><U+00BD><ed><U+00B8><U+0082>Those who  are protesting #demonetization  are all different party leaders\"\n",
    "cleaned_text = remove_symbols(sample_text)\n",
    "\n",
    "print(\"Expected output:\", cleaned_text)"
   ]
  },
  {
   "cell_type": "code",
   "execution_count": 8,
   "id": "23722d9a",
   "metadata": {},
   "outputs": [
    {
     "name": "stdout",
     "output_type": "stream",
     "text": [
      "Extracted dates: ['12-09-1992', '15-12-1999']\n"
     ]
    }
   ],
   "source": [
    "# question 29:\n",
    "\n",
    "import re\n",
    "\n",
    "with open('doc2_sample_test.txt', 'r') as file:\n",
    "    text = file.read()\n",
    "    \n",
    "    pattern = r'\\b\\d{2}-\\d{2}-\\d{4}\\b'\n",
    "    \n",
    "dates = re.findall(pattern, text)\n",
    "\n",
    "print(\"Extracted dates:\", dates)"
   ]
  },
  {
   "cell_type": "code",
   "execution_count": 9,
   "id": "f3777874",
   "metadata": {},
   "outputs": [
    {
     "name": "stdout",
     "output_type": "stream",
     "text": [
      "Expected output:  following example creates  ArrayList  a capacity   elements. 4 elements   added   ArrayList   ArrayList  trimmed accordingly.\n"
     ]
    }
   ],
   "source": [
    "# question 30:\n",
    "\n",
    "import re\n",
    "\n",
    "def remove_words_of_length_2_to_4(text):\n",
    "    pattern = re.compile(r'\\b\\w{2,4}\\b')\n",
    "    \n",
    "    cleaned_text = pattern.sub('', text)\n",
    "    return cleaned_text\n",
    "\n",
    "sample_text = \"The following example creates an ArrayList with a capacity of 50 elements. 4 elements are then added to the ArrayList and the ArrayList is trimmed accordingly.\"\n",
    "cleaned_text = remove_words_of_length_2_to_4(sample_text)\n",
    "\n",
    "print(\"Expected output:\", cleaned_text)"
   ]
  },
  {
   "cell_type": "code",
   "execution_count": null,
   "id": "05467c13",
   "metadata": {},
   "outputs": [],
   "source": []
  }
 ],
 "metadata": {
  "kernelspec": {
   "display_name": "Python 3 (ipykernel)",
   "language": "python",
   "name": "python3"
  },
  "language_info": {
   "codemirror_mode": {
    "name": "ipython",
    "version": 3
   },
   "file_extension": ".py",
   "mimetype": "text/x-python",
   "name": "python",
   "nbconvert_exporter": "python",
   "pygments_lexer": "ipython3",
   "version": "3.9.7"
  }
 },
 "nbformat": 4,
 "nbformat_minor": 5
}
